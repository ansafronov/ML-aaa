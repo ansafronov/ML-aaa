{
 "cells": [
  {
   "cell_type": "markdown",
   "id": "3f96fc8d-cf1a-49d6-ad43-ec08433e98ce",
   "metadata": {},
   "source": [
    "<h2>Домашнее задание</h2>\n",
    "\n",
    "<p>Воспользуемся реализованной моделью логистической регрессии, чтобы решить задачу определения пола пользователя Авито.</p>\n",
    "\n",
    "<p><a href=\"https://stepik.org/media/attachments/lesson/527992/binary_clf_data.csv\" rel=\"noopener noreferrer nofollow\">Данные</a> даны в сыром виде &ndash; айтемы и их категории, которые выкладывали покупатели на Авито. Целевая переменная: <em>gender.</em></p>\n",
    "\n",
    "<p>Вам необходимо разбить данные на train, val. Перед загрузкой файла с ответом убедитесь, что точность (<a href=\"https://scikit-learn.org/stable/modules/generated/sklearn.metrics.accuracy_score.html\" rel=\"noopener noreferrer nofollow\">accuracy</a>)&nbsp;на валидации не менее 0.7.</p>\n",
    "\n",
    "<p>&nbsp;</p>\n",
    "\n",
    "<p><strong>План действий</strong></p>\n",
    "\n",
    "<p>Сначала нужно преобразовать категории с помощью one-hot encoding. Далее необходимо агрегировать категории, в которых пользователи выкладывали объявления, чтобы получить вектор признаков для каждого объекта. В результате у каждого пользователя будет вектор признаков, содержащий количество айтемов, выложенных в каждой из возможных категорий.</p>\n",
    "\n",
    "<ul>\n",
    "\t<li>Убедитесь, что для каждого пользователя в выборке есть только один объект, каждый признак означает количество айтемов, выложенное этим пользователем в категории;</li>\n",
    "\t<li>Убедитесь, что после one-hot энкодинга каждая категория соответствует признаку,&nbsp;<strong>одинаковому в train, val и test.</strong></li>\n",
    "</ul>\n",
    "\n",
    "<p>Попробуйте варианты отбора признаков. Для борьбы с переобучением на редких категориях используйте регуляризацию. В качестве&nbsp;ответа загрузите файл с предсказанием пола для пользователей:</p>\n",
    "\n",
    "<p style=\"text-align:center\">&nbsp;</p>\n",
    "\n",
    "<table align=\"center\" border=\"1\" cellpadding=\"1\" cellspacing=\"1\" style=\"width:500px\">\n",
    "\t<thead>\n",
    "\t\t<tr>\n",
    "\t\t\t<th style=\"text-align:center\">user_id</th>\n",
    "\t\t\t<th style=\"text-align:center\">gender</th>\n",
    "\t\t</tr>\n",
    "\t</thead>\n",
    "\t<tbody>\n",
    "\t\t<tr>\n",
    "\t\t\t<td style=\"text-align:center\">15424171</td>\n",
    "\t\t\t<td style=\"text-align:center\">male</td>\n",
    "\t\t</tr>\n",
    "\t\t<tr>\n",
    "\t\t\t<td style=\"text-align:center\">15454025</td>\n",
    "\t\t\t<td style=\"text-align:center\">female</td>\n",
    "\t\t</tr>\n",
    "\t</tbody>\n",
    "</table>\n",
    "\n",
    "<p style=\"text-align:center\">&nbsp;</p>\n",
    "\n",
    "<p>Такой файл можно сформировать с помощью&nbsp;<code>test_predictions.to_csv(&#39;test_predictions.csv&#39;, index=False)</code>.</p>\n",
    "\n",
    "<p>После того, как получилось обучить модель, ответьте на вопрос: какие из категорий вносят наибольший вклад в вероятность класса &quot;мужчина&quot; и класса &quot;женщина&quot;?</p>\n",
    "\n",
    "<p>Например, если вы закодировали &quot;мужчина&quot; как 1, большие положительные веса при признаках будут означать большой вклад в вероятность класса 1, большие по модулю отрицательные веса будут вносить наибольший вклад в вероятность класса 0. Согласуется ли полученный результат с вашим жизненным опытом?</p>\n"
   ]
  },
  {
   "cell_type": "code",
   "execution_count": 11,
   "id": "cbe175c0-2229-489f-bfc1-1834d95f9fd2",
   "metadata": {},
   "outputs": [],
   "source": [
    "import pandas as pd\n",
    "import numpy as np\n",
    "import numbers"
   ]
  },
  {
   "cell_type": "code",
   "execution_count": 196,
   "id": "14589576-3e9b-4c77-8b5e-d8af4e58117a",
   "metadata": {},
   "outputs": [],
   "source": [
    "from sklearn.metrics import accuracy_score, log_loss\n",
    "\n",
    "\n",
    "class LogisticRegression:\n",
    "    \n",
    "    def __init__(self, max_iter=1e4, lr=0.001, tol=0.001, print_every=100, l1_coef: np.array = None):\n",
    "        \n",
    "        '''\n",
    "        max_iter – максимальное количеств\n",
    "        '''\n",
    "        \n",
    "        self.max_iter = max_iter\n",
    "        self.lr = lr\n",
    "        self.tol = tol\n",
    "        self.print_every = print_every\n",
    "        self.l1_coef = l1_coef\n",
    "        \n",
    "        self.weights = None\n",
    "        self.bias = None\n",
    "        \n",
    "    def fit(self, X_train, y_train, X_val, y_val):\n",
    "        \n",
    "        '''\n",
    "        Обучение модели.\n",
    "        \n",
    "        X_train – матрица объектов для обучения\n",
    "        y_train – ответы на объектах для обучения\n",
    "        \n",
    "        X_val – матрица объектов для валидации\n",
    "        y_val – ответы на объектах для валидации\n",
    "        '''\n",
    "        \n",
    "        self.check_binary_clf_X_y(X_train, y_train)\n",
    "        self.check_binary_clf_X_y(X_val, y_val)\n",
    "        \n",
    "        n, m = X_train.shape\n",
    "        \n",
    "        if self.l1_coef is None:\n",
    "            self.l1_coef = 0.001 * np.ones(m).reshape(-1, 1)\n",
    "        \n",
    "        self.weights = np.zeros((m, 1))\n",
    "        self.bias = 0\n",
    "        \n",
    "        n_iter = 0\n",
    "        gradient_norm = np.inf\n",
    "        \n",
    "        while n_iter < self.max_iter and gradient_norm > self.tol:\n",
    "            \n",
    "            dJdw, dJdb = self.grads(X_train, y_train)\n",
    "            gradient_norm = np.linalg.norm(np.hstack([dJdw.flatten(), [dJdb]]))\n",
    "                \n",
    "            self.weights = self.weights - self.lr * dJdw\n",
    "            self.bias = self.bias - self.lr * dJdb\n",
    "            \n",
    "            n_iter += 1\n",
    "            \n",
    "            if n_iter % self.print_every == 0:\n",
    "                self.print_metrics(X_train, y_train, X_val, y_val, n_iter, gradient_norm)\n",
    "        \n",
    "        return self\n",
    "    \n",
    "    def predict(self, X):  \n",
    "        \n",
    "        '''\n",
    "        Метод возвращает предсказанную метку класса на объектах X\n",
    "        '''\n",
    "        \n",
    "        return np.where(self.predict_proba(X) > 0.5, 1, 0)\n",
    "        \n",
    "    \n",
    "    def predict_proba(self, X):\n",
    "        \n",
    "        '''\n",
    "        Метод возвращает вероятность класса 1 на объектах X\n",
    "        '''\n",
    "    \n",
    "        return self.sigmoid(X @ self.weights + self.bias)\n",
    "    \n",
    "    def grads(self, x, y):\n",
    "        \n",
    "        '''\n",
    "        Рассчёт градиентов\n",
    "        '''\n",
    "        \n",
    "        y_hat = self.predict_proba(x)\n",
    "        \n",
    "        dJdw = ((y_hat - y) * x).mean(axis=0, keepdims=True).T + (self.l1_coef * np.sign(self.weights)).reshape(-1, 1)\n",
    "        dJdb = (y_hat - y).mean()\n",
    "        \n",
    "        self.check_grads(dJdw, dJdb)\n",
    "        \n",
    "        return dJdw, dJdb\n",
    "    \n",
    "    @staticmethod\n",
    "    def sigmoid(x):\n",
    "        \n",
    "        '''\n",
    "        Сигмоида от x\n",
    "        '''\n",
    "        \n",
    "        return 1 / (1 + np.exp(-x))\n",
    "    \n",
    "    def print_metrics(self, X_train, y_train, X_val, y_val, n_iter, gradient_norm):\n",
    "        \n",
    "        train_preds = self.predict(X_train)\n",
    "        train_predict_proba = self.predict_proba(X_train)\n",
    "        val_preds = self.predict(X_val)\n",
    "        \n",
    "        train_acc = accuracy_score(train_preds, y_train)\n",
    "        val_acc = accuracy_score(val_preds, y_val)\n",
    "        \n",
    "        loss = log_loss(y_train, train_predict_proba)\n",
    "        \n",
    "        print(f'{n_iter} completed. accuracy_score on train: {train_acc}, val: {val_acc}, loss: {loss}')\n",
    "        \n",
    "    def check_grads(self, dJdw, dJdb):\n",
    "        \n",
    "        if not isinstance(dJdb, numbers.Real):\n",
    "            raise ValueError(f'Производная по параметру b должна быть действительным'\n",
    "                             f' числом, как и сам параметр b, а у нас {dJdb} типа {type(dJdb)}')\n",
    "            \n",
    "        if dJdw.shape != self.weights.shape:\n",
    "            raise ValueError(f'Размерность градиента по параметрам w должна совпадать с самим вектором w, '\n",
    "                             f'а у нас dJdw.shape = {dJdw.shape} не совпадает с weight.shape = {self.weights.shape}')\n",
    "    \n",
    "    @staticmethod\n",
    "    def check_binary_clf_X_y(X, y):\n",
    "        \n",
    "        if X.shape[0] == 0:\n",
    "            raise ValueError(f'X и y не должны быть пустыми, а у нас X.shape = {X.shape} и y.shape = {y.shape}')\n",
    "            \n",
    "        if np.isnan(X).any():\n",
    "            raise ValueError(f'X не должен содержать \"not a number\" (np.nan)')\n",
    "            \n",
    "        if np.isnan(y).any():\n",
    "            raise ValueError(f'y не должен содержать \"not a number\" (np.nan)')\n",
    "        \n",
    "        if X.shape[0] != y.shape[0]:\n",
    "            raise ValueError(f'Длина X и y должна быть одинаковой, а у нас X.shape = {X.shape}, y.shape = {y.shape}')\n",
    "            \n",
    "        if y.shape[1] != 1:\n",
    "            raise ValueError(f'y - вектор ответов должен быть размерности (m, 1), а у нас y.shape = {y.shape}')\n",
    "\n",
    "                    \n",
    "        if sorted(np.unique([1, 0, 0])) != [0, 1]:\n",
    "            raise ValueError(f'Ответы на объектах должны быть только 0 или 1, а у нас np.unique(y) = {np.unique(y)}')\n"
   ]
  },
  {
   "cell_type": "markdown",
   "id": "d60b4ab4-cbf1-4d96-ad56-7e428d84aeda",
   "metadata": {},
   "source": [
    "# Данные"
   ]
  },
  {
   "cell_type": "code",
   "execution_count": 183,
   "id": "a3963fb9-0feb-4436-8c30-b2e0f56a8cfb",
   "metadata": {},
   "outputs": [],
   "source": [
    "from sklearn.model_selection import train_test_split\n",
    "from sklearn.preprocessing import OneHotEncoder\n",
    "\n",
    "SEED = 100"
   ]
  },
  {
   "cell_type": "code",
   "execution_count": 184,
   "id": "c0fe769e-369c-4446-86a1-856209b54a08",
   "metadata": {},
   "outputs": [],
   "source": [
    "data = pd.read_csv('binary_clf_data.csv')"
   ]
  },
  {
   "cell_type": "code",
   "execution_count": 185,
   "id": "45c02235-3f78-404f-955d-932fd9299965",
   "metadata": {},
   "outputs": [],
   "source": [
    "y = np.where(data['gender'] == 'female', 1, 0)"
   ]
  },
  {
   "cell_type": "code",
   "execution_count": 186,
   "id": "2e00a823-85b2-4bd1-b468-8e4fae69207d",
   "metadata": {},
   "outputs": [],
   "source": [
    "X_train, X_val, y_train, y_val = train_test_split(data[['user_id','category_id']], y, test_size=0.3,random_state=SEED)"
   ]
  },
  {
   "cell_type": "code",
   "execution_count": 187,
   "id": "d1b39e81-0d8c-4699-8a6d-62e8fcada886",
   "metadata": {},
   "outputs": [],
   "source": [
    "# cat transformer\n",
    "category_ohe = OneHotEncoder(sparse=False)\n",
    "train_category_ohe = category_ohe.fit_transform(X_train['category_id'].values.reshape(-1, 1))\n",
    "val_category_ohe = category_ohe.transform(X_val['category_id'].values.reshape(-1, 1))"
   ]
  },
  {
   "cell_type": "code",
   "execution_count": 188,
   "id": "1fd5a78c-f5f6-448a-b9a6-8be679b6ecde",
   "metadata": {},
   "outputs": [],
   "source": [
    "train_ohe = pd.DataFrame(train_category_ohe, index=X_train['user_id']).groupby('user_id').sum()\n",
    "val_ohe = pd.DataFrame(val_category_ohe, index=X_val['user_id']).groupby('user_id').sum()\n",
    "\n",
    "y_train_grouped = pd.DataFrame(y_train, index=X_train['user_id'], columns=['gender_binary']).groupby('user_id').min()\n",
    "y_val_grouped = pd.DataFrame(y_val, index=X_val['user_id'], columns=['gender_binary']).groupby('user_id').min()"
   ]
  },
  {
   "cell_type": "code",
   "execution_count": 189,
   "id": "50dc1432-156e-48a2-a8c6-dbe5fb2f4028",
   "metadata": {},
   "outputs": [],
   "source": [
    "X_y_train = train_ohe.join(y_train_grouped)\n",
    "X_y_val = val_ohe.join(y_val_grouped)"
   ]
  },
  {
   "cell_type": "code",
   "execution_count": 190,
   "id": "a871c625-4bae-40ff-8533-ffaff600f435",
   "metadata": {},
   "outputs": [],
   "source": [
    "X_train_modified = X_y_train.drop(columns=['gender_binary']).values\n",
    "X_val_modified = X_y_val.drop(columns=['gender_binary', 0, 5, 7]).values\n",
    "\n",
    "y_train = X_y_train['gender_binary'].values.reshape(-1,1)\n",
    "y_val = X_y_val['gender_binary'].values.reshape(-1,1)"
   ]
  },
  {
   "cell_type": "code",
   "execution_count": 205,
   "id": "aefe02c5-72d2-4c08-89c6-9e4371222785",
   "metadata": {},
   "outputs": [],
   "source": [
    "mod_4_6_train = (X_train_modified[:, 4] * X_train_modified[:, 6]).reshape(-1, 1)\n",
    "mod_4_6_val = (X_val_modified[:, 4] * X_val_modified[:, 6]).reshape(-1, 1)\n",
    "\n",
    "mod_2_3_train = (X_train_modified[:, 2] * X_train_modified[:, 3]).reshape(-1, 1)\n",
    "mod_2_3_val = (X_val_modified[:, 2] * X_val_modified[:, 3]).reshape(-1, 1)\n",
    "\n",
    "X_train_modified = np.hstack([X_train_modified, mod_4_6_train, mod_2_3_train])\n",
    "X_val_modified = np.hstack([X_val_modified, mod_4_6_val, mod_2_3_val])"
   ]
  },
  {
   "cell_type": "code",
   "execution_count": 224,
   "id": "f37124ed-979e-4794-81b2-af8b3d5bd409",
   "metadata": {},
   "outputs": [
    {
     "name": "stdout",
     "output_type": "stream",
     "text": [
      "10000 completed. accuracy_score on train: 0.6618020304568528, val: 0.6411764705882353, loss: 0.6858409456393267\n",
      "20000 completed. accuracy_score on train: 0.6592639593908629, val: 0.6441176470588236, loss: 0.6814595327177903\n",
      "30000 completed. accuracy_score on train: 0.6383248730964467, val: 0.6147058823529412, loss: 0.6782497180809122\n",
      "40000 completed. accuracy_score on train: 0.6383248730964467, val: 0.6137254901960785, loss: 0.6757335509929306\n",
      "50000 completed. accuracy_score on train: 0.6357868020304569, val: 0.6127450980392157, loss: 0.6736840010212481\n",
      "60000 completed. accuracy_score on train: 0.6364213197969543, val: 0.6137254901960785, loss: 0.6719691997531312\n",
      "70000 completed. accuracy_score on train: 0.6364213197969543, val: 0.6137254901960785, loss: 0.6705048389228145\n",
      "80000 completed. accuracy_score on train: 0.6364213197969543, val: 0.6127450980392157, loss: 0.669235984349343\n",
      "90000 completed. accuracy_score on train: 0.6370558375634517, val: 0.6127450980392157, loss: 0.6681224735138588\n",
      "100000 completed. accuracy_score on train: 0.6370558375634517, val: 0.6127450980392157, loss: 0.6671348728007294\n",
      "110000 completed. accuracy_score on train: 0.6364213197969543, val: 0.6127450980392157, loss: 0.6662510401427674\n",
      "120000 completed. accuracy_score on train: 0.6338832487309645, val: 0.5950980392156863, loss: 0.6654539414304408\n",
      "130000 completed. accuracy_score on train: 0.6338832487309645, val: 0.5941176470588235, loss: 0.664730224192614\n",
      "140000 completed. accuracy_score on train: 0.633248730964467, val: 0.5950980392156863, loss: 0.6640692497787196\n",
      "150000 completed. accuracy_score on train: 0.633248730964467, val: 0.5941176470588235, loss: 0.663462425527019\n",
      "160000 completed. accuracy_score on train: 0.633248730964467, val: 0.5941176470588235, loss: 0.6629027213871729\n",
      "170000 completed. accuracy_score on train: 0.633248730964467, val: 0.5941176470588235, loss: 0.6623843235716707\n",
      "180000 completed. accuracy_score on train: 0.633248730964467, val: 0.5941176470588235, loss: 0.6619023765257827\n",
      "190000 completed. accuracy_score on train: 0.633248730964467, val: 0.5941176470588235, loss: 0.6614527910292868\n",
      "200000 completed. accuracy_score on train: 0.631979695431472, val: 0.5931372549019608, loss: 0.6610320934123399\n",
      "210000 completed. accuracy_score on train: 0.631979695431472, val: 0.5931372549019608, loss: 0.6606373182775506\n",
      "220000 completed. accuracy_score on train: 0.6313451776649747, val: 0.5931372549019608, loss: 0.6602659069957616\n",
      "230000 completed. accuracy_score on train: 0.6313451776649747, val: 0.5931372549019608, loss: 0.6599156494795093\n",
      "240000 completed. accuracy_score on train: 0.6313451776649747, val: 0.5931372549019608, loss: 0.6595846193731412\n",
      "250000 completed. accuracy_score on train: 0.6313451776649747, val: 0.5931372549019608, loss: 0.6592711336562559\n",
      "260000 completed. accuracy_score on train: 0.6313451776649747, val: 0.5931372549019608, loss: 0.6589737094673082\n",
      "270000 completed. accuracy_score on train: 0.6313451776649747, val: 0.5931372549019608, loss: 0.6586910406873975\n",
      "280000 completed. accuracy_score on train: 0.6313451776649747, val: 0.5931372549019608, loss: 0.6584219694172717\n",
      "290000 completed. accuracy_score on train: 0.6313451776649747, val: 0.5931372549019608, loss: 0.6581654622525828\n",
      "300000 completed. accuracy_score on train: 0.6313451776649747, val: 0.5931372549019608, loss: 0.6579205985261511\n"
     ]
    },
    {
     "data": {
      "text/plain": [
       "<__main__.LogisticRegression at 0x7f7bb9d63550>"
      ]
     },
     "execution_count": 224,
     "metadata": {},
     "output_type": "execute_result"
    }
   ],
   "source": [
    "reg = LogisticRegression(\n",
    "    max_iter=300000, \n",
    "    lr=0.00001, \n",
    "    tol=0.001, \n",
    "    print_every=10000, \n",
    "    l1_coef=np.array([0.01, 0.001, 0.001, 0.001, 0.01, 0.01, 0.01, 0.01, 0.01, 0.01, 0.001, 0.001]).reshape(-1, 1)\n",
    ")\n",
    "reg.fit(X_train_modified, y_train, X_val_modified, y_val)"
   ]
  },
  {
   "cell_type": "code",
   "execution_count": 225,
   "id": "66e042a8-1354-40cc-a20a-2794fd725e59",
   "metadata": {},
   "outputs": [
    {
     "data": {
      "text/plain": [
       "{0: array([4.57179763e-08]),\n",
       " 1: array([-0.05124934]),\n",
       " 2: array([-0.13676113]),\n",
       " 3: array([-0.12873013]),\n",
       " 4: array([0.0512128]),\n",
       " 5: array([2.09668455e-08]),\n",
       " 6: array([0.047363]),\n",
       " 7: array([-1.41009806e-07]),\n",
       " 8: array([-0.02320605]),\n",
       " 9: array([-0.03107797]),\n",
       " 10: array([0.05798193]),\n",
       " 11: array([-0.01118248])}"
      ]
     },
     "execution_count": 225,
     "metadata": {},
     "output_type": "execute_result"
    }
   ],
   "source": [
    "{i: w for i, w in zip(range(reg.weights.shape[0]),reg.weights)}"
   ]
  },
  {
   "cell_type": "code",
   "execution_count": 132,
   "id": "6dca204b-7244-41f1-9e6e-75a81490f130",
   "metadata": {},
   "outputs": [],
   "source": [
    "import matplotlib.pyplot as plt"
   ]
  },
  {
   "cell_type": "code",
   "execution_count": 135,
   "id": "2f47c4b4-8328-42d0-8256-6fea0b4d3539",
   "metadata": {},
   "outputs": [
    {
     "data": {
      "image/png": "[encoded data removed]",
      "text/plain": [
       "<Figure size 432x288 with 1 Axes>"
      ]
     },
     "metadata": {
      "needs_background": "light"
     },
     "output_type": "display_data"
    },
    {
     "data": {
      "image/png": "[encoded data removed]",
      "text/plain": [
       "<Figure size 432x288 with 1 Axes>"
      ]
     },
     "metadata": {
      "needs_background": "light"
     },
     "output_type": "display_data"
    },
    {
     "data": {
      "image/png": "[encoded data removed]",
      "text/plain": [
       "<Figure size 432x288 with 1 Axes>"
      ]
     },
     "metadata": {
      "needs_background": "light"
     },
     "output_type": "display_data"
    },
    {
     "data": {
      "image/png": "[encoded data removed]",
      "text/plain": [
       "<Figure size 432x288 with 1 Axes>"
      ]
     },
     "metadata": {
      "needs_background": "light"
     },
     "output_type": "display_data"
    },
    {
     "data": {
      "image/png": "[encoded data removed]",
      "text/plain": [
       "<Figure size 432x288 with 1 Axes>"
      ]
     },
     "metadata": {
      "needs_background": "light"
     },
     "output_type": "display_data"
    },
    {
     "data": {
      "image/png": "[encoded data removed]",
      "text/plain": [
       "<Figure size 432x288 with 1 Axes>"
      ]
     },
     "metadata": {
      "needs_background": "light"
     },
     "output_type": "display_data"
    },
    {
     "data": {
      "image/png": "[encoded data removed]",
      "text/plain": [
       "<Figure size 432x288 with 1 Axes>"
      ]
     },
     "metadata": {
      "needs_background": "light"
     },
     "output_type": "display_data"
    }
   ],
   "source": [
    "for x in X_train_modified.T:\n",
    "    fig, ax = plt.subplots()\n",
    "    ax.hist(x)"
   ]
  },
  {
   "cell_type": "code",
   "execution_count": 141,
   "id": "fd879bee-47e8-43b5-b96e-95cf47d14071",
   "metadata": {},
   "outputs": [
    {
     "data": {
      "text/plain": [
       "array([ 641.,  408., 1232., 2160.,  227.,  259.,  486.])"
      ]
     },
     "execution_count": 141,
     "metadata": {},
     "output_type": "execute_result"
    }
   ],
   "source": [
    "X_train_modified.sum(axis=0)"
   ]
  },
  {
   "cell_type": "markdown",
   "id": "45df4305-4c45-4a16-878a-0e65dd253592",
   "metadata": {},
   "source": [
    "# test"
   ]
  },
  {
   "cell_type": "code",
   "execution_count": 218,
   "id": "ae43eb3f-470c-4a7b-a32d-ee5f62c232d3",
   "metadata": {},
   "outputs": [],
   "source": [
    "test = pd.read_csv('dataset_527992_9.csv')"
   ]
  },
  {
   "cell_type": "code",
   "execution_count": 219,
   "id": "f2115f94-9e0c-4fdb-971d-e03af79e7325",
   "metadata": {},
   "outputs": [
    {
     "data": {
      "text/html": [
       "<div>\n",
       "<style scoped>\n",
       "    .dataframe tbody tr th:only-of-type {\n",
       "        vertical-align: middle;\n",
       "    }\n",
       "\n",
       "    .dataframe tbody tr th {\n",
       "        vertical-align: top;\n",
       "    }\n",
       "\n",
       "    .dataframe thead th {\n",
       "        text-align: right;\n",
       "    }\n",
       "</style>\n",
       "<table border=\"1\" class=\"dataframe\">\n",
       "  <thead>\n",
       "    <tr style=\"text-align: right;\">\n",
       "      <th></th>\n",
       "      <th>user_id</th>\n",
       "      <th>category_id</th>\n",
       "      <th>category_name</th>\n",
       "      <th>subcategory_id</th>\n",
       "      <th>subcategory_name</th>\n",
       "      <th>param1</th>\n",
       "      <th>param2</th>\n",
       "      <th>param3</th>\n",
       "      <th>param1_microcat_id</th>\n",
       "      <th>param2_microcat_id</th>\n",
       "      <th>param3_microcat_id</th>\n",
       "    </tr>\n",
       "  </thead>\n",
       "  <tbody>\n",
       "    <tr>\n",
       "      <th>0</th>\n",
       "      <td>154189609</td>\n",
       "      <td>7</td>\n",
       "      <td>Хобби и отдых</td>\n",
       "      <td>4</td>\n",
       "      <td>Велосипеды</td>\n",
       "      <td>Детские</td>\n",
       "      <td>NaN</td>\n",
       "      <td>NaN</td>\n",
       "      <td>1246.0</td>\n",
       "      <td>NaN</td>\n",
       "      <td>NaN</td>\n",
       "    </tr>\n",
       "    <tr>\n",
       "      <th>1</th>\n",
       "      <td>154189609</td>\n",
       "      <td>17</td>\n",
       "      <td>Бытовая электроника</td>\n",
       "      <td>29</td>\n",
       "      <td>Товары для компьютера</td>\n",
       "      <td>Комплектующие</td>\n",
       "      <td>Видеокарты</td>\n",
       "      <td>NaN</td>\n",
       "      <td>1651.0</td>\n",
       "      <td>6491.0</td>\n",
       "      <td>NaN</td>\n",
       "    </tr>\n",
       "    <tr>\n",
       "      <th>2</th>\n",
       "      <td>154189609</td>\n",
       "      <td>17</td>\n",
       "      <td>Бытовая электроника</td>\n",
       "      <td>41</td>\n",
       "      <td>Телефоны</td>\n",
       "      <td>iPhone</td>\n",
       "      <td>NaN</td>\n",
       "      <td>NaN</td>\n",
       "      <td>7315.0</td>\n",
       "      <td>NaN</td>\n",
       "      <td>NaN</td>\n",
       "    </tr>\n",
       "    <tr>\n",
       "      <th>3</th>\n",
       "      <td>154189609</td>\n",
       "      <td>17</td>\n",
       "      <td>Бытовая электроника</td>\n",
       "      <td>41</td>\n",
       "      <td>Телефоны</td>\n",
       "      <td>Xiaomi</td>\n",
       "      <td>NaN</td>\n",
       "      <td>NaN</td>\n",
       "      <td>10750009.0</td>\n",
       "      <td>NaN</td>\n",
       "      <td>NaN</td>\n",
       "    </tr>\n",
       "    <tr>\n",
       "      <th>4</th>\n",
       "      <td>154189728</td>\n",
       "      <td>28</td>\n",
       "      <td>Личные вещи</td>\n",
       "      <td>22</td>\n",
       "      <td>Одежда, обувь, аксессуары</td>\n",
       "      <td>Женская одежда</td>\n",
       "      <td>Верхняя одежда</td>\n",
       "      <td>46–48 (L)</td>\n",
       "      <td>1989.0</td>\n",
       "      <td>6949.0</td>\n",
       "      <td>775.0</td>\n",
       "    </tr>\n",
       "    <tr>\n",
       "      <th>...</th>\n",
       "      <td>...</td>\n",
       "      <td>...</td>\n",
       "      <td>...</td>\n",
       "      <td>...</td>\n",
       "      <td>...</td>\n",
       "      <td>...</td>\n",
       "      <td>...</td>\n",
       "      <td>...</td>\n",
       "      <td>...</td>\n",
       "      <td>...</td>\n",
       "      <td>...</td>\n",
       "    </tr>\n",
       "    <tr>\n",
       "      <th>3185</th>\n",
       "      <td>154263224</td>\n",
       "      <td>250003</td>\n",
       "      <td>Работа</td>\n",
       "      <td>250004</td>\n",
       "      <td>Резюме</td>\n",
       "      <td>Без опыта, студенты</td>\n",
       "      <td>NaN</td>\n",
       "      <td>NaN</td>\n",
       "      <td>2179.0</td>\n",
       "      <td>NaN</td>\n",
       "      <td>NaN</td>\n",
       "    </tr>\n",
       "    <tr>\n",
       "      <th>3186</th>\n",
       "      <td>154265872</td>\n",
       "      <td>28</td>\n",
       "      <td>Личные вещи</td>\n",
       "      <td>47</td>\n",
       "      <td>Товары для детей и игрушки</td>\n",
       "      <td>Игрушки</td>\n",
       "      <td>NaN</td>\n",
       "      <td>NaN</td>\n",
       "      <td>5428.0</td>\n",
       "      <td>NaN</td>\n",
       "      <td>NaN</td>\n",
       "    </tr>\n",
       "    <tr>\n",
       "      <th>3187</th>\n",
       "      <td>154265872</td>\n",
       "      <td>28</td>\n",
       "      <td>Личные вещи</td>\n",
       "      <td>47</td>\n",
       "      <td>Товары для детей и игрушки</td>\n",
       "      <td>Игрушки</td>\n",
       "      <td>NaN</td>\n",
       "      <td>NaN</td>\n",
       "      <td>5428.0</td>\n",
       "      <td>NaN</td>\n",
       "      <td>NaN</td>\n",
       "    </tr>\n",
       "    <tr>\n",
       "      <th>3188</th>\n",
       "      <td>154265872</td>\n",
       "      <td>28</td>\n",
       "      <td>Личные вещи</td>\n",
       "      <td>47</td>\n",
       "      <td>Товары для детей и игрушки</td>\n",
       "      <td>Игрушки</td>\n",
       "      <td>NaN</td>\n",
       "      <td>NaN</td>\n",
       "      <td>5428.0</td>\n",
       "      <td>NaN</td>\n",
       "      <td>NaN</td>\n",
       "    </tr>\n",
       "    <tr>\n",
       "      <th>3189</th>\n",
       "      <td>154266260</td>\n",
       "      <td>12</td>\n",
       "      <td>Транспорт</td>\n",
       "      <td>43</td>\n",
       "      <td>Автомобили</td>\n",
       "      <td>С пробегом</td>\n",
       "      <td>Audi</td>\n",
       "      <td>A6</td>\n",
       "      <td>3250006.0</td>\n",
       "      <td>3500497.0</td>\n",
       "      <td>501707.0</td>\n",
       "    </tr>\n",
       "  </tbody>\n",
       "</table>\n",
       "<p>3190 rows × 11 columns</p>\n",
       "</div>"
      ],
      "text/plain": [
       "        user_id  category_id        category_name  subcategory_id  \\\n",
       "0     154189609            7        Хобби и отдых               4   \n",
       "1     154189609           17  Бытовая электроника              29   \n",
       "2     154189609           17  Бытовая электроника              41   \n",
       "3     154189609           17  Бытовая электроника              41   \n",
       "4     154189728           28          Личные вещи              22   \n",
       "...         ...          ...                  ...             ...   \n",
       "3185  154263224       250003               Работа          250004   \n",
       "3186  154265872           28          Личные вещи              47   \n",
       "3187  154265872           28          Личные вещи              47   \n",
       "3188  154265872           28          Личные вещи              47   \n",
       "3189  154266260           12            Транспорт              43   \n",
       "\n",
       "                subcategory_name               param1          param2  \\\n",
       "0                     Велосипеды              Детские             NaN   \n",
       "1          Товары для компьютера        Комплектующие      Видеокарты   \n",
       "2                       Телефоны               iPhone             NaN   \n",
       "3                       Телефоны               Xiaomi             NaN   \n",
       "4      Одежда, обувь, аксессуары       Женская одежда  Верхняя одежда   \n",
       "...                          ...                  ...             ...   \n",
       "3185                      Резюме  Без опыта, студенты             NaN   \n",
       "3186  Товары для детей и игрушки              Игрушки             NaN   \n",
       "3187  Товары для детей и игрушки              Игрушки             NaN   \n",
       "3188  Товары для детей и игрушки              Игрушки             NaN   \n",
       "3189                  Автомобили           С пробегом            Audi   \n",
       "\n",
       "         param3  param1_microcat_id  param2_microcat_id  param3_microcat_id  \n",
       "0           NaN              1246.0                 NaN                 NaN  \n",
       "1           NaN              1651.0              6491.0                 NaN  \n",
       "2           NaN              7315.0                 NaN                 NaN  \n",
       "3           NaN          10750009.0                 NaN                 NaN  \n",
       "4     46–48 (L)              1989.0              6949.0               775.0  \n",
       "...         ...                 ...                 ...                 ...  \n",
       "3185        NaN              2179.0                 NaN                 NaN  \n",
       "3186        NaN              5428.0                 NaN                 NaN  \n",
       "3187        NaN              5428.0                 NaN                 NaN  \n",
       "3188        NaN              5428.0                 NaN                 NaN  \n",
       "3189         A6           3250006.0           3500497.0            501707.0  \n",
       "\n",
       "[3190 rows x 11 columns]"
      ]
     },
     "execution_count": 219,
     "metadata": {},
     "output_type": "execute_result"
    }
   ],
   "source": [
    "test"
   ]
  },
  {
   "cell_type": "code",
   "execution_count": null,
   "id": "4c3ba5cc-37f2-4170-99e6-3e6066a348cd",
   "metadata": {},
   "outputs": [],
   "source": []
  }
 ],
 "metadata": {
  "kernelspec": {
   "display_name": "Python 3 (ipykernel)",
   "language": "python",
   "name": "python3"
  },
  "language_info": {
   "codemirror_mode": {
    "name": "ipython",
    "version": 3
   },
   "file_extension": ".py",
   "mimetype": "text/x-python",
   "name": "python",
   "nbconvert_exporter": "python",
   "pygments_lexer": "ipython3",
   "version": "3.9.7"
  }
 },
 "nbformat": 4,
 "nbformat_minor": 5
}
